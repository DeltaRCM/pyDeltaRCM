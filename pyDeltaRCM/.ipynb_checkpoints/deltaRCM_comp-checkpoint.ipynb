{
 "cells": [
  {
   "cell_type": "code",
   "execution_count": 21,
   "metadata": {
    "collapsed": false
   },
   "outputs": [
    {
     "name": "stdout",
     "output_type": "stream",
     "text": [
      "Reading input file...\n",
      "Finished reading 30 variables from input file.\n",
      "Generating netCDF file for output grids...\n",
      "*** Replaced existing netCDF file ***\n",
      "Output netCDF file created.\n",
      "--------------------\n",
      "Time = 1 of 10\n",
      "Applying subsidence\n",
      "Storing stratigraphy data\n",
      "--------------------\n",
      "Time = 2 of 10\n",
      "Applying subsidence\n",
      "Storing stratigraphy data\n",
      "Saving grid: eta\n",
      "--------------------\n",
      "Time = 3 of 10\n",
      "Applying subsidence\n",
      "Storing stratigraphy data\n",
      "--------------------\n",
      "Time = 4 of 10\n",
      "Applying subsidence\n",
      "Storing stratigraphy data\n",
      "Saving grid: eta\n",
      "--------------------\n",
      "Time = 5 of 10\n",
      "Applying subsidence\n",
      "Storing stratigraphy data\n",
      "--------------------\n",
      "Time = 6 of 10\n",
      "Applying subsidence\n",
      "Storing stratigraphy data\n",
      "Saving grid: eta\n",
      "--------------------\n",
      "Time = 7 of 10\n",
      "Applying subsidence\n",
      "Storing stratigraphy data\n",
      "--------------------\n",
      "Time = 8 of 10\n",
      "Applying subsidence\n",
      "Storing stratigraphy data\n",
      "Saving grid: eta\n",
      "--------------------\n",
      "Time = 9 of 10\n",
      "Applying subsidence\n",
      "Storing stratigraphy data\n",
      "--------------------\n",
      "Time = 10 of 10\n",
      "Applying subsidence\n",
      "Storing stratigraphy data\n",
      "Saving grid: eta\n"
     ]
    }
   ],
   "source": [
    "import deltaRCM_base\n",
    "reload(deltaRCM_base)\n",
    "import matplotlib.pyplot as plt\n",
    "%matplotlib inline\n",
    "import numpy as np\n",
    "\n",
    "class deltaRCM(deltaRCM_base.Tools):\n",
    "\n",
    "    _input_vars = {\n",
    "        'model_output__site_prefix': {'name':'site_prefix', 'type': 'string', 'default': ''},\n",
    "        'model_output__case_prefix': {'name':'case_prefix', 'type': 'string', 'default': ''},\n",
    "        'model_output__out_dir': {'name':'out_dir', 'type': 'string', 'default': 'deltaRCM_Output/'},\n",
    "        'model__total_timesteps': {'name':'n_steps', 'type': 'long', 'default': 200},\n",
    "        'model_grid__length': {'name':'Length', 'type': 'float', 'default': 5000.},\n",
    "        'model_grid__width': {'name':'Width', 'type': 'float', 'default': 10000.},\n",
    "        'model_grid__cell_size': {'name':'dx', 'type': 'float', 'default': 100.},\n",
    "        'land_surface__width': {'name':'L0_meters', 'type': 'float', 'default': 300.}, \n",
    "        'land_surface__slope': {'name':'S0', 'type': 'float', 'default': 0.00015},\n",
    "        'model__max_iteration': {'name':'itermax', 'type': 'long', 'default': 1},\n",
    "        'water__number_parcels': {'name':'Np_water', 'type': 'long', 'default': 1000},\n",
    "        'channel__flow_velocity': {'name':'u0', 'type': 'float', 'default': 1.},\n",
    "        'channel__width': {'name':'N0_meters', 'type': 'float', 'default': 300.},\n",
    "        'channel__flow_depth': {'name':'h0', 'type': 'float', 'default': 5.},\n",
    "        'sea_water_surface__elevation': {'name':'H_SL', 'type': 'float', 'default': 0.},\n",
    "        'sea_water_surface__rate_change_elevation': {'name':'SLR', 'type': 'float', 'default': 0.},\n",
    "        'sediment__number_parcels': {'name':'Np_sed', 'type': 'long', 'default': 1000},\n",
    "        'sediment__bedload_fraction': {'name':'f_bedload', 'type': 'float', 'default': 0.25}, \n",
    "        'sediment__influx_concentration': {'name':'C0_percent', 'type': 'float', 'default': 0.1},                   \n",
    "        'model_output__opt_eta_figs': {'name':'save_eta_figs', 'type': 'choice', 'default': True},\n",
    "        'model_output__opt_stage_figs': {'name':'save_stage_figs', 'type': 'choice', 'default': False},\n",
    "        'model_output__opt_depth_figs': {'name':'save_depth_figs', 'type': 'choice', 'default': False},\n",
    "        'model_output__opt_eta_grids': {'name':'save_eta_grids', 'type': 'choice', 'default': False},\n",
    "        'model_output__opt_stage_grids': {'name':'save_stage_grids', 'type': 'choice', 'default': False},\n",
    "        'model_output__opt_depth_grids': {'name':'save_depth_grids', 'type': 'choice', 'default': False},\n",
    "        'model_output__opt_time_interval': {'name':'save_dt', 'type': 'long', 'default': 50},\n",
    "        'coeff__surface_smoothing': {'name': 'Csmooth', 'type': 'float', 'default': 0.9},\n",
    "        'coeff__under_relaxation__water_surface': {'name': 'omega_sfc', 'type': 'float', 'default': 0.1},\n",
    "        'coeff__under_relaxation__water_flow': {'name': 'omega_flow', 'type': 'float', 'default': 0.9},\n",
    "        'coeff__iterations_smoothing_algorithm': {'name': 'Nsmooth', 'type': 'long', 'default': 5},\n",
    "        'coeff__depth_dependence__water': {'name': 'theta_water', 'type': 'float', 'default': 1.0},\n",
    "        'coeff__depth_dependence__sand': {'name': 'coeff_theta_sand', 'type': 'float', 'default': 2.0},\n",
    "        'coeff__depth_dependence__mud': {'name': 'coeff_theta_mud', 'type': 'float', 'default': 1.0},\n",
    "        'coeff__non_linear_exp_sed_flux_flow_velocity': {'name': 'beta', 'type': 'long', 'default': 3},\n",
    "        'coeff__sedimentation_lag': {'name': 'sed_lag', 'type': 'float', 'default': 1.0},\n",
    "        'coeff__velocity_deposition_mud': {'name': 'coeff_U_dep_mud', 'type': 'float', 'default': 0.3},\n",
    "        'coeff__velocity_erosion_mud': {'name': 'coeff_U_ero_mud', 'type': 'float', 'default': 1.5},\n",
    "        'coeff__velocity_erosion_sand': {'name': 'coeff_U_ero_sand', 'type': 'float', 'default': 1.05},\n",
    "        'coeff__topographic_diffusion': {'name': 'alpha', 'type': 'float', 'default': 0.1},\n",
    "        'basin__opt_subsidence': {'name':'toggle_subsidence', 'type': 'choice', 'default': False},\n",
    "        'basin__maximum_subsidence_rate': {'name': 'sigma_max', 'type': 'float', 'default': 0.000825},\n",
    "        'basin__subsidence_start_timestep': {'name': 'start_subsidence', 'type': 'long', 'default': 0},\n",
    "        'basin__opt_stratigraphy': {'name': 'save_strata', 'type': 'choice', 'default': False}\n",
    "        }\n",
    "\n",
    "\n",
    "    #############################################\n",
    "    ################### update ##################\n",
    "    #############################################\n",
    "\n",
    "    def update(self):\n",
    "        '''\n",
    "        Run the model for one full instance\n",
    "        '''\n",
    "\n",
    "        for timestep in range(self.n_steps):\n",
    "            self.run_one_timestep(timestep)\n",
    "            \n",
    "            self.apply_subsidence(timestep)\n",
    "            self.record_stratigraphy(timestep)\n",
    "            \n",
    "            self.finalize_timestep(timestep)\n",
    "            self.output_data(timestep)\n",
    "        \n",
    "        \n",
    "        ##### finalize #####\n",
    "        self.output_strata()\n",
    "\n",
    "\n",
    "\n",
    "    #############################################\n",
    "    ################## __init__ #################\n",
    "    #############################################\n",
    "\n",
    "    def __init__(self):\n",
    "        '''\n",
    "        Creates an instance of the model\n",
    "\n",
    "        Sets the most commonly changed variables here\n",
    "        Calls functions to set the rest and create the domain (for cleanliness)\n",
    "        '''\n",
    "        \n",
    "        self.verbose = True\n",
    "        self.input_file = 'deltaRCM.in'\n",
    "        \n",
    "        self.create_dicts()\n",
    "        self.set_defaults()\n",
    "        self.import_file()\n",
    "        \n",
    "        self.create_other_variables()\n",
    "        self.create_domain()\n",
    "        \n",
    "        \n",
    "        self.init_subsidence()\n",
    "        self.init_stratigraphy()\n",
    "        self.init_output_grids()\n",
    "\n",
    "\n",
    "\n",
    "\n",
    "delta = deltaRCM()\n",
    "delta.update()\n",
    "\n",
    "\n"
   ]
  },
  {
   "cell_type": "code",
   "execution_count": 14,
   "metadata": {
    "collapsed": false
   },
   "outputs": [],
   "source": [
    "sf = delta.strata_sand_frac[:,0].toarray().reshape(delta.eta.shape)\n",
    "sf[sf == 0] = -1"
   ]
  },
  {
   "cell_type": "code",
   "execution_count": 16,
   "metadata": {
    "collapsed": false
   },
   "outputs": [
    {
     "data": {
      "text/plain": [
       "<matplotlib.colorbar.Colorbar at 0x111eae6d0>"
      ]
     },
     "execution_count": 16,
     "metadata": {},
     "output_type": "execute_result"
    },
    {
     "data": {
      "image/png": "[encoded data removed]",
      "text/plain": [
       "<matplotlib.figure.Figure at 0x111efd350>"
      ]
     },
     "metadata": {},
     "output_type": "display_data"
    }
   ],
   "source": [
    "plt.imshow(sf)\n",
    "plt.colorbar()"
   ]
  },
  {
   "cell_type": "code",
   "execution_count": 17,
   "metadata": {
    "collapsed": false
   },
   "outputs": [
    {
     "data": {
      "text/plain": [
       "1e-06"
      ]
     },
     "execution_count": 17,
     "metadata": {},
     "output_type": "execute_result"
    }
   ],
   "source": [
    "sf.max()"
   ]
  },
  {
   "cell_type": "code",
   "execution_count": 30,
   "metadata": {
    "collapsed": false
   },
   "outputs": [],
   "source": [
    "shape = delta.strata_eta.shape\n",
    "\n",
    "\n",
    "\n",
    "# strata_age = delta.output_netcdf.createDimension('strata_age', shape[1])\n",
    "\n",
    "# sand_frac = delta.output_netcdf.createVariable('strata_sand_frac',\n",
    "#                                               np.float32,\n",
    "#                                               ('strata_age','length','width'))\n",
    "# sand_frac.units = 'fraction'\n",
    "\n",
    "# strata_elev = delta.output_netcdf.createVariable('strata_depth',\n",
    "#                                               np.float32,\n",
    "#                                               ('strata_age','length','width'))\n",
    "# strata_elev.units = 'meters'\n",
    "\n",
    "\n",
    "\n",
    "for i in range(shape[1]):\n",
    "    \n",
    "#     sf = delta.strata_sand_frac[:,i].toarray().reshape(delta.eta.shape)\n",
    "#     sf[sf == 0] = -1\n",
    "    \n",
    "#     delta.output_netcdf['strata_sand_frac'][i,:,:] = sf\n",
    "\n",
    "    sf = delta.strata_sand_frac[:,i].toarray().reshape(delta.eta.shape)\n",
    "    sf[sf == 0] = -1\n",
    "    \n",
    "    delta.output_netcdf['strata_sand_frac'][i,:,:] = sf\n",
    "    \n",
    "    sz = delta.strata_eta[:,i].toarray().reshape(delta.eta.shape)\n",
    "    sz[sz == 0] = delta.init_eta[sz == 0]\n",
    "\n",
    "    delta.output_netcdf['strata_depth'][i,:,:] = sz\n",
    "    \n",
    "    delta.output_netcdf['strata_age'][:] = range(shape[1]-1, -1, -1)"
   ]
  },
  {
   "cell_type": "code",
   "execution_count": 26,
   "metadata": {
    "collapsed": false
   },
   "outputs": [],
   "source": [
    "sz = delta.strata_eta[:,i].toarray().reshape(delta.eta.shape)\n",
    "sz[sz == 0] = delta.init_eta[sz == 0]\n",
    "\n",
    "delta.output_netcdf['strata_depth'][i,:,:] = sz"
   ]
  },
  {
   "cell_type": "code",
   "execution_count": 37,
   "metadata": {
    "collapsed": false
   },
   "outputs": [
    {
     "data": {
      "text/plain": [
       "[9, 8, 7, 6, 5, 4, 3, 2, 1, 0]"
      ]
     },
     "execution_count": 37,
     "metadata": {},
     "output_type": "execute_result"
    }
   ],
   "source": [
    "range(shape[1]-1, -1, -1)"
   ]
  },
  {
   "cell_type": "code",
   "execution_count": null,
   "metadata": {
    "collapsed": true
   },
   "outputs": [],
   "source": [
    "self.output_netcdf['time'][shape[0]] = timestep"
   ]
  }
 ],
 "metadata": {
  "kernelspec": {
   "display_name": "Python 2",
   "language": "python",
   "name": "python2"
  },
  "language_info": {
   "codemirror_mode": {
    "name": "ipython",
    "version": 2
   },
   "file_extension": ".py",
   "mimetype": "text/x-python",
   "name": "python",
   "nbconvert_exporter": "python",
   "pygments_lexer": "ipython2",
   "version": "2.7.11"
  }
 },
 "nbformat": 4,
 "nbformat_minor": 0
}
